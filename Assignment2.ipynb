{
 "cells": [
  {
   "cell_type": "code",
   "execution_count": 44,
   "id": "4cd2ce30-613f-4d04-8063-94c7a19d2072",
   "metadata": {},
   "outputs": [],
   "source": [
    "\"\"\"\n",
    "Q1. Which keyword is used to create a function? Create a function to return a list of odd numbers in the\n",
    "range of 1 to 25.\n",
    "\"\"\"\n",
    "#A1 def keyword is used to create funtion\n",
    "\n",
    "def getOddNumbers():\n",
    "    \"\"\" function to return a list of odd numbers \"\"\"\n",
    "    return [i for i in range(1,26) if i %2 != 0]"
   ]
  },
  {
   "cell_type": "code",
   "execution_count": 45,
   "id": "757febc6-4951-470b-9a83-b45cf3dd4190",
   "metadata": {},
   "outputs": [
    {
     "data": {
      "text/plain": [
       "[1, 3, 5, 7, 9, 11, 13, 15, 17, 19, 21, 23, 25]"
      ]
     },
     "execution_count": 45,
     "metadata": {},
     "output_type": "execute_result"
    }
   ],
   "source": [
    "getOddNumbers()"
   ]
  },
  {
   "cell_type": "code",
   "execution_count": 46,
   "id": "3373b023-d78c-4776-b178-6dda5d6f6bfb",
   "metadata": {},
   "outputs": [],
   "source": [
    "\"\"\"\n",
    "Q2. Why *args and **kwargs is used in some functions? Create a function each for *args and **kwargs\n",
    "to demonstrate their use.\n",
    "\"\"\"\n",
    "# A2.a Args example\n",
    "def printArgs(*args):\n",
    "    for i in args:\n",
    "        print(i)"
   ]
  },
  {
   "cell_type": "code",
   "execution_count": 47,
   "id": "4c169093-e806-4d60-b7c9-f5194ff36079",
   "metadata": {},
   "outputs": [
    {
     "name": "stdout",
     "output_type": "stream",
     "text": [
      "1\n",
      "2\n",
      "3\n",
      "4\n"
     ]
    }
   ],
   "source": [
    "printArgs(1,2,3,4)"
   ]
  },
  {
   "cell_type": "code",
   "execution_count": 48,
   "id": "9b04d8bf-a925-433b-bf59-d93d7d242786",
   "metadata": {},
   "outputs": [],
   "source": [
    "# A2.b kwargs example\n",
    "def printKWArgs(**kwargs):\n",
    "    for k,v in kwargs.items():\n",
    "        print(k,v)"
   ]
  },
  {
   "cell_type": "code",
   "execution_count": 49,
   "id": "910b82e9-df3e-4637-bd78-d48c1e8c7b1e",
   "metadata": {},
   "outputs": [
    {
     "name": "stdout",
     "output_type": "stream",
     "text": [
      "name Kasim\n",
      "age 42\n",
      "city Navi Mumbai\n"
     ]
    }
   ],
   "source": [
    "printKWArgs(name='Kasim', age=42, city='Navi Mumbai')"
   ]
  },
  {
   "cell_type": "code",
   "execution_count": 50,
   "id": "eaf73afd-cf12-47d0-bd6b-1d0d2f45493f",
   "metadata": {},
   "outputs": [
    {
     "name": "stdout",
     "output_type": "stream",
     "text": [
      "2\n",
      "4\n",
      "6\n",
      "8\n",
      "10\n"
     ]
    }
   ],
   "source": [
    "\"\"\"\n",
    "Q3. What is an iterator in python? Name the method used to initialise the iterator object and the method\n",
    "used for iteration. Use these methods to print the first five elements of the given list [2, 4, 6, 8, 10, 12, 14,\n",
    "16, 18, 20].\n",
    "\"\"\"\n",
    "def printFirstFive(list):\n",
    "    iterator = iter(list)\n",
    "    for i in range(5):\n",
    "        print(next(iterator))\n",
    "\n",
    "list = [2, 4, 6, 8, 10, 12, 14, 16, 18, 20]\n",
    "printFirstFive(list)"
   ]
  },
  {
   "cell_type": "code",
   "execution_count": 51,
   "id": "cf87921a-15c2-46ec-b8b7-09dccacb65ec",
   "metadata": {},
   "outputs": [
    {
     "name": "stdout",
     "output_type": "stream",
     "text": [
      "0\n",
      "1\n",
      "1\n",
      "2\n",
      "3\n",
      "5\n",
      "8\n",
      "13\n",
      "21\n",
      "34\n"
     ]
    }
   ],
   "source": [
    "\"\"\"\n",
    "Q4. What is a generator function in python? Why yield keyword is used? Give an example of a generator\n",
    "function.\n",
    "\"\"\"\n",
    "\"\"\"\n",
    "A: The yield keyword is used in generator functions to produce a value and temporarily suspend the function's execution. \n",
    "When the function encounters a yield statement, it returns the yielded value\n",
    "\"\"\"\n",
    "def fibonacci(n):\n",
    "    a, b = 0, 1\n",
    "    for i in range(n):\n",
    "        yield a\n",
    "        a, b = b, a + b\n",
    "\n",
    "for i in fibonacci(10):\n",
    "    print(i)"
   ]
  },
  {
   "cell_type": "code",
   "execution_count": 52,
   "id": "cf360e3d-66ef-4478-9b41-8e14c9bb0e85",
   "metadata": {},
   "outputs": [
    {
     "name": "stdout",
     "output_type": "stream",
     "text": [
      "2\n",
      "3\n",
      "5\n",
      "7\n",
      "11\n",
      "13\n",
      "17\n",
      "19\n",
      "23\n",
      "29\n",
      "31\n",
      "37\n",
      "41\n",
      "43\n",
      "47\n",
      "53\n",
      "59\n",
      "61\n",
      "67\n",
      "71\n"
     ]
    }
   ],
   "source": [
    "\"\"\"\n",
    "Q5. Create a generator function for prime numbers less than 1000. Use the next() method to print the\n",
    "first 20 prime numbers.\n",
    "\"\"\"\n",
    " \n",
    "def primeNumbers():\n",
    "    currentNumber = 2 # start point\n",
    "    while currentNumber < 1000:\n",
    "        isPrime = True\n",
    "        for i in range(2, int(currentNumber ** 0.5) + 1):\n",
    "            if currentNumber % i == 0:\n",
    "                isPrime = False\n",
    "                break\n",
    "        if isPrime:\n",
    "            yield currentNumber\n",
    "        currentNumber += 1\n",
    "\n",
    "primeGen = primeNumbers()\n",
    "\n",
    "for i in range(20):\n",
    "    print(next(primeGen))\n"
   ]
  },
  {
   "cell_type": "code",
   "execution_count": 53,
   "id": "c5ee1291-9bf6-449e-8573-3950ec39d3df",
   "metadata": {},
   "outputs": [
    {
     "name": "stdout",
     "output_type": "stream",
     "text": [
      "0\n",
      "1\n",
      "1\n",
      "2\n",
      "3\n",
      "5\n",
      "8\n",
      "13\n",
      "21\n",
      "34\n"
     ]
    }
   ],
   "source": [
    "\"\"\"\n",
    "Q6. Write a python program to print the first 10 Fibonacci numbers using a while loop.\n",
    "\"\"\"\n",
    "def fibonacciNum():\n",
    "    a, b = 0, 1\n",
    "    while True:\n",
    "        yield a\n",
    "        a, b = b, a + b\n",
    "\n",
    "fibGen = fibonacciNum()\n",
    "for i in range(10):\n",
    "    print(next(fibGen))    "
   ]
  },
  {
   "cell_type": "code",
   "execution_count": 54,
   "id": "e79cadab-e97c-460d-b172-3722c679555d",
   "metadata": {},
   "outputs": [
    {
     "data": {
      "text/plain": [
       "['p', 'w', 's', 'k', 'i', 'l', 'l', 's']"
      ]
     },
     "execution_count": 54,
     "metadata": {},
     "output_type": "execute_result"
    }
   ],
   "source": [
    "\"\"\"\n",
    "Q7. Write a List Comprehension to iterate through the given string: ‘pwskills’.\n",
    "Expected output: ['p', 'w', 's', 'k', 'i', 'l', 'l', 's']\n",
    "\"\"\"\n",
    "str = \"pwskills\"\n",
    "[i for i in str]\n"
   ]
  },
  {
   "cell_type": "code",
   "execution_count": 55,
   "id": "d76f10d6-7fc5-4c88-b66e-2f6870900b7c",
   "metadata": {},
   "outputs": [
    {
     "name": "stdin",
     "output_type": "stream",
     "text": [
      "Enter number to check if it is palindrome? 121\n"
     ]
    },
    {
     "name": "stdout",
     "output_type": "stream",
     "text": [
      "121 is a palindrome\n"
     ]
    }
   ],
   "source": [
    "\"\"\"\n",
    "Q8. Write a python program to check whether a given number is Palindrome or not using a while loop.\n",
    "\"\"\"\n",
    "def isPalindrome(number):\n",
    "    temp = number\n",
    "    reverse = 0\n",
    "    while temp > 0:\n",
    "        digit = temp % 10\n",
    "        reverse = reverse * 10 + digit\n",
    "        temp //= 10\n",
    "    return number == reverse\n",
    "\n",
    "number = int(input(\"Enter number to check if it is palindrome?\"))\n",
    "\n",
    "if isPalindrome(number):\n",
    "    print(number, \"is a palindrome\")\n",
    "else:\n",
    "    print(number, \"is not a palindrome\")\n",
    "    "
   ]
  },
  {
   "cell_type": "code",
   "execution_count": 56,
   "id": "a48065cd-eef0-48f3-a27b-8bcf2d8291a7",
   "metadata": {},
   "outputs": [
    {
     "name": "stdout",
     "output_type": "stream",
     "text": [
      "[1, 3, 5, 7, 9, 11, 13, 15, 17, 19, 21, 23, 25, 27, 29, 31, 33, 35, 37, 39, 41, 43, 45, 47, 49, 51, 53, 55, 57, 59, 61, 63, 65, 67, 69, 71, 73, 75, 77, 79, 81, 83, 85, 87, 89, 91, 93, 95, 97, 99]\n"
     ]
    }
   ],
   "source": [
    "\"\"\"\n",
    "Q9. Write a code to print odd numbers from 1 to 100 using list comprehension.\n",
    "Note: Use a list comprehension to create a list from 1 to 100 and use another List comprehension to filter\n",
    "out odd numbers.\n",
    "\"\"\"\n",
    "\n",
    "oddNumbers = [number for number in range(1, 101) if number % 2 == 1]\n",
    "print(oddNumbers)"
   ]
  }
 ],
 "metadata": {
  "kernelspec": {
   "display_name": "Python 3 (ipykernel)",
   "language": "python",
   "name": "python3"
  },
  "language_info": {
   "codemirror_mode": {
    "name": "ipython",
    "version": 3
   },
   "file_extension": ".py",
   "mimetype": "text/x-python",
   "name": "python",
   "nbconvert_exporter": "python",
   "pygments_lexer": "ipython3",
   "version": "3.10.8"
  }
 },
 "nbformat": 4,
 "nbformat_minor": 5
}
