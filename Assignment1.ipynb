{
 "cells": [
  {
   "cell_type": "code",
   "execution_count": 5,
   "id": "4d99819f-5ebd-4703-b1f0-96852aea0580",
   "metadata": {},
   "outputs": [
    {
     "name": "stdout",
     "output_type": "stream",
     "text": [
      "Usman\n",
      "Maria\n",
      "Aaiza\n",
      "Riza\n"
     ]
    }
   ],
   "source": [
    "\"\"\"\n",
    "Q1: Explain with an example each when to use a for loop and a while loop.\n",
    "A: \n",
    "A for loop is generally used when you have a sequence of elements (such as a list, tuple, string, or range) \n",
    "and you want to iterate over each element of the sequence.\n",
    "\n",
    "A while loop is used when you want to repeat a block of code as long as a certain condition is true. \n",
    "It allows you to create a loop that continues until a specific condition is no longer met.\n",
    "\"\"\"\n",
    "#Q1.a for Loop example:\n",
    "kids = [\"Usman\",\"Maria\",\"Aaiza\",\"Riza\"]\n",
    "for e in kids:\n",
    "    print(e)"
   ]
  },
  {
   "cell_type": "code",
   "execution_count": 10,
   "id": "46c453a9-6a6f-4e07-a9e5-0a8fcb5e89c8",
   "metadata": {},
   "outputs": [
    {
     "name": "stdout",
     "output_type": "stream",
     "text": [
      "0\n",
      "1\n",
      "2\n",
      "3\n",
      "4\n"
     ]
    }
   ],
   "source": [
    "#Q1.b while example\n",
    "count = 0\n",
    "while count < 5:\n",
    "    print(count)\n",
    "    count = count + 1"
   ]
  },
  {
   "cell_type": "code",
   "execution_count": 19,
   "id": "b4f57c19-d06e-466d-b098-48e155ae5bda",
   "metadata": {},
   "outputs": [
    {
     "name": "stdout",
     "output_type": "stream",
     "text": [
      "Sum of Natural numbers from 1 - 10 is:  55\n",
      "Product of Natural numbers from 1 - 10 is:  3628800\n"
     ]
    }
   ],
   "source": [
    "\"\"\"\"Q2: Write a python program to print the sum and product of the first 10 natural numbers using for and while loop.\"\"\"\n",
    "naturalNumber = range(1,11)\n",
    "sumNumbers = 0\n",
    "productNumbers = 1\n",
    "\n",
    "for i in naturalNumber:\n",
    "    sumNumbers = sumNumbers + i\n",
    "    productNumbers = productNumbers * i\n",
    "print(\"Sum of Natural numbers from 1 - 10 is: \", sumNumbers)\n",
    "print(\"Product of Natural numbers from 1 - 10 is: \", productNumbers)\n"
   ]
  },
  {
   "cell_type": "code",
   "execution_count": 29,
   "id": "c2b6832c-673b-43ea-9106-265df8d727f4",
   "metadata": {},
   "outputs": [
    {
     "name": "stdin",
     "output_type": "stream",
     "text": [
      "Electricity units consumed in a month:  310\n"
     ]
    },
    {
     "name": "stdout",
     "output_type": "stream",
     "text": [
      "Your total bill:  2250\n"
     ]
    }
   ],
   "source": [
    "\"\"\"\n",
    "Q3:  Create a python program to compute the electricity bill for a household.\n",
    "The per-unit charges in rupees are as follows: For the first 100 units, the user will be charged Rs. 4.5 per\n",
    "unit, for the next 100 units, the user will be charged Rs. 6 per unit, and for the next 100 units, the user will\n",
    "be charged Rs. 10 per unit, After 300 units and above the user will be charged Rs. 20 per unit.\n",
    "\n",
    "You are required to take the units of electricity consumed in a month from the user as input.\n",
    "\n",
    "Your program must pass this test case: when the unit of electricity consumed by the user in a month is\n",
    "310, the total electricity bill should be 2250.\n",
    "\"\"\"\n",
    "unitElectricity = int(input(\"Electricity units consumed in a month: \"))\n",
    "\n",
    "totalBill = 0\n",
    "\n",
    "if unitElectricity <= 100:\n",
    "    totalBill = unitElectricity * 4.5\n",
    "elif unitElectricity <= 200:\n",
    "    totalBill = 100 * 4.5 + (unitElectricity - 100) * 6\n",
    "elif unitElectricity <= 300:\n",
    "    totalBill = 100 * 4.5 + 100 * 6 + (unitElectricity - 200) * 10\n",
    "else:\n",
    "    totalBill = 100 * 4.5 + 100 * 6 + 100 * 10 + (unitElectricity - 300) * 20\n",
    "\n",
    "print(\"Your total bill: \",int(totalBill))\n",
    "    "
   ]
  },
  {
   "cell_type": "code",
   "execution_count": 14,
   "id": "76b9be4a-334c-4bcc-ba95-21265f62befd",
   "metadata": {},
   "outputs": [
    {
     "name": "stdout",
     "output_type": "stream",
     "text": [
      "[2, 4, 5, 6, 8, 10, 12, 14, 15, 16, 18, 20, 22, 24, 25, 26, 28, 30, 32, 34, 35, 36, 38, 40, 42, 44, 45, 46, 48, 50, 52, 54, 55, 56, 58, 60, 62, 64, 65, 66, 68, 70, 72, 74, 75, 76, 78, 80, 82, 84, 85, 86, 88, 90, 92, 94, 95, 96, 98, 100]\n"
     ]
    }
   ],
   "source": [
    "\"\"\"\n",
    "Q4: Create a list of numbers from 1 to 100. Use for loop and while loop to calculate the cube of each\n",
    "number and if the cube of that number is divisible by 4 or 5 then append that number in a list and print\n",
    "that list.\n",
    "\"\"\"\n",
    "#Q4.a for Loop example:\n",
    "numbers = range(1, 101)  \n",
    "resultListF = []\n",
    "\n",
    "for num in numbers:\n",
    "    cube = num ** 3\n",
    "    if cube % 4 == 0 or cube % 5 == 0:\n",
    "        resultListF.append(num)\n",
    "print(resultListF)"
   ]
  },
  {
   "cell_type": "code",
   "execution_count": 16,
   "id": "066da81c-882a-42a0-812b-9ec247710727",
   "metadata": {},
   "outputs": [
    {
     "name": "stdout",
     "output_type": "stream",
     "text": [
      "[2, 4, 5, 6, 8, 10, 12, 14, 15, 16, 18, 20, 22, 24, 25, 26, 28, 30, 32, 34, 35, 36, 38, 40, 42, 44, 45, 46, 48, 50, 52, 54, 55, 56, 58, 60, 62, 64, 65, 66, 68, 70, 72, 74, 75, 76, 78, 80, 82, 84, 85, 86, 88, 90, 92, 94, 95, 96, 98, 100]\n"
     ]
    }
   ],
   "source": [
    "#Q4.b for Loop example:\n",
    "numbers = list(range(1, 101))\n",
    "resultListW = []\n",
    "\n",
    "i = 0\n",
    "while i < len(numbers):\n",
    "    cube = numbers[i] ** 3\n",
    "    if cube % 4 == 0 or cube % 5 == 0:\n",
    "        resultListW.append(numbers[i])\n",
    "    i = i + 1\n",
    "print(resultListW)"
   ]
  },
  {
   "cell_type": "code",
   "execution_count": 17,
   "id": "74a788e6-b35c-448b-b2e9-05270ff2866f",
   "metadata": {},
   "outputs": [
    {
     "name": "stdout",
     "output_type": "stream",
     "text": [
      "Number of vowels: 12\n"
     ]
    }
   ],
   "source": [
    "\"\"\"\n",
    "Q5. Write a program to filter count vowels in the below-given string.\n",
    "string = \"I want to become a data scientist\"\n",
    "\"\"\"\n",
    "string = \"I want to become a data scientist\"\n",
    "string = string.lower()\n",
    "\n",
    "vowels = \"aeiou\"\n",
    "vowelCount = 0\n",
    "\n",
    "for char in string:\n",
    "    if char in vowels:\n",
    "        vowelCount = vowelCount + 1\n",
    "\n",
    "print(\"Number of vowels:\", vowelCount)"
   ]
  },
  {
   "cell_type": "code",
   "execution_count": null,
   "id": "1e6ca0b2-62b8-4ce7-a818-b433903451d6",
   "metadata": {},
   "outputs": [],
   "source": []
  }
 ],
 "metadata": {
  "kernelspec": {
   "display_name": "Python 3 (ipykernel)",
   "language": "python",
   "name": "python3"
  },
  "language_info": {
   "codemirror_mode": {
    "name": "ipython",
    "version": 3
   },
   "file_extension": ".py",
   "mimetype": "text/x-python",
   "name": "python",
   "nbconvert_exporter": "python",
   "pygments_lexer": "ipython3",
   "version": "3.10.8"
  }
 },
 "nbformat": 4,
 "nbformat_minor": 5
}
